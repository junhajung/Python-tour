{
 "cells": [
  {
   "cell_type": "code",
   "execution_count": 1,
   "id": "23bf6c5c-45ba-4145-90d6-d4a16f75eaa6",
   "metadata": {},
   "outputs": [],
   "source": [
    "import requests\n",
    "from bs4 import BeautifulSoup\n",
    "import pymysql\n",
    "from  selenium import webdriver\n",
    "from selenium.webdriver.common.keys import Keys\n",
    "import time as time\n",
    "import getpass\n",
    "import urllib.request\n",
    "import random\n",
    "import re\n",
    " \n",
    "from time import sleep\n",
    " \n",
    "import pandas as pd\n",
    "import numpy as np\n",
    "import matplotlib.pyplot as plt\n",
    "%matplotlib inline"
   ]
  },
  {
   "cell_type": "code",
   "execution_count": 2,
   "id": "7013395a-7d18-4320-b4b6-3325cee298ba",
   "metadata": {},
   "outputs": [
    {
     "data": {
      "text/plain": [
       "['\"인주\"세대를 아우르는 한옥의 아름다움어진 고을의 뜻을 가진 인주면에웅장한 한옥 공간이 자리해있다자칫 소홀해질 수 있는 큰 공간이섬세한 정성으로 가득하던 곳...(카페 공간이 정말 다양해서 보여드리지 못한 곳도 많아요~ 가족분들 모시고 가셔도 좋으실거 같아요 :D)-◽️카페인주◽️충남 아산시 인주면 아산만로 1608 가, 나, 다동(10:00~22:00)인주라떼 7.0-#공간노트',\n",
       " '2021-05-24',\n",
       " 0,\n",
       " '충남 아산',\n",
       " ['#공간노트']]"
      ]
     },
     "execution_count": 2,
     "metadata": {},
     "output_type": "execute_result"
    }
   ],
   "source": [
    "# 게시물 크롤링\n",
    "options = webdriver.ChromeOptions()\n",
    "driver = webdriver.Chrome(executable_path=\"driver/chromedriver.exe\", options = options)\n",
    "options.add_argument('user-agent=Mozilla/5.0 (Macintosh; Intel Mac OS X 10_12_6) AppleWebKit/537.36 (KHTML, like Gecko) Chrome/61.0.3163.100 Safari/537.36')  # user-agent \n",
    "driver.get(\"https://www.instagram.com/accounts/login/\")\n",
    "driver.maximize_window()\n",
    "time.sleep(1)\n",
    "driver.find_element_by_xpath('//*[@id=\"loginForm\"]/div/div[5]/button/span[2]').click()\n",
    "driver.execute_script('document.getElementsByName(\"email\")[0].value = \"페이스북아이디\"')\n",
    "driver.execute_script('document.getElementsByName(\"pass\")[0].value = \"페이스북비밀번호\"')\n",
    "time.sleep(1)\n",
    "driver.find_element_by_xpath('//*[@id=\"loginbutton\"]').click()\n",
    "time.sleep(10)\n",
    "driver.find_element_by_xpath('/html/body/div[4]/div/div/div/div[3]/button[2]').click()\n",
    "\n",
    "# keyword = \"바캉스\"\n",
    "# count = 1000\n",
    "# url = \"https://www.instagram.com/explore/tags/{}/\".format(keyword)\n",
    "\n",
    "def insta_searching(word):\n",
    "    url = \"https://www.instagram.com/explore/tags/\" + word\n",
    "    return url\n",
    "\n",
    "word = \"충남여행\"\n",
    "url = insta_searching(word)\n",
    "driver.get(url)\n",
    "time.sleep(8)\n",
    "\n",
    "def select_first(driver):\n",
    "    first = driver.find_element_by_css_selector(\"div.eLAPa\")\n",
    "    first.click()\n",
    "    time.sleep(8)\n",
    "    \n",
    "select_first(driver)\n",
    "\n",
    "def get_content(driver):\n",
    "    \n",
    "    html = driver.page_source\n",
    "    soup = BeautifulSoup(html, 'lxml')\n",
    "    # 본문 내용 \n",
    "    try:\n",
    "        content = soup.select('div.C4VMK > span')[0].text\n",
    "    except:\n",
    "        content = ' '\n",
    "    # 해시태그 \n",
    "    tags = re.findall(r'#[^\\s#,\\\\]+', content)  \n",
    "    # 작성일자 \n",
    "    date = soup.select('time._1o9PC.Nzb55')[0]['datetime'][:10]\n",
    "    # 좋아요 \n",
    "    try:\n",
    "        like = soup.select('div.Nm9Fw > button')[0].text[4:-1]   \n",
    "    except:\n",
    "        like = 0\n",
    "    # 위치\n",
    "    try: \n",
    "        place = soup.select('div.M30cS')[0].text\n",
    "    except:\n",
    "        place = ''\n",
    "   \n",
    "    data = [content, date, like, place, tags]\n",
    "    return data\n",
    "\n",
    "get_content(driver)\n",
    "\n",
    "\n",
    "\n"
   ]
  },
  {
   "cell_type": "code",
   "execution_count": 3,
   "id": "e181955a-e27d-4e6b-95e5-59fd6d879557",
   "metadata": {},
   "outputs": [],
   "source": [
    "# 다음페이지\n",
    "def move_next(driver):\n",
    "\n",
    "    right = driver.find_element_by_css_selector ('a.coreSpriteRightPaginationArrow')\n",
    "    right.click()\n",
    "    time.sleep(8)\n",
    "\n",
    "move_next(driver)"
   ]
  },
  {
   "cell_type": "code",
   "execution_count": null,
   "id": "f9bac9ae-a5b7-4baf-86a4-e2986ded42e5",
   "metadata": {},
   "outputs": [],
   "source": [
    "# 크롤링 시작\n",
    "\n",
    "word = \"충남여행\" \n",
    "url = insta_searching(word)\n",
    "\n",
    "driver.get(url)\n",
    "time.sleep(6)\n",
    "\n",
    "select_first(driver)\n",
    "\n",
    "results = [ ]\n",
    "\n",
    "# 크롤링 할 페이지 개수\n",
    "target = 1000\n",
    "for i in range(target):\n",
    "    \n",
    "    try:\n",
    "        data = get_content(driver)  \n",
    "        results.append(data)\n",
    "        move_next(driver)\n",
    "    except:\n",
    "        time.sleep(2)\n",
    "        move_next(driver)\n",
    "    \n",
    "\n",
    "print(results[:2])\n",
    "\n",
    "# 크롤링 결과 데이터 칼럼 설정 후 저장 (csv, json, excel)\n",
    "\n",
    "results_df = pd.DataFrame(results)\n",
    "results_df.columns = ['content','data','like','place','tags']\n",
    "results_df.to_csv('C:/바탕 화면/Insta_충남관광.csv')\n",
    "# results_df.to_json('C:/Users/82108/OneDrive/Desktop/GitHub/SpringFrameWork/Bigdata/bigdata1/관광/충남2.json')\n",
    "# results_df.to_excel('C:/Users/82108/OneDrive/Desktop/GitHub/SpringFrameWork/Bigdata/bigdata1/관광/충남관광.xlsx')\n",
    "results_df"
   ]
  },
  {
   "cell_type": "code",
   "execution_count": 3,
   "id": "c3102cb8-d2f3-4329-90d8-4d81b61a9e56",
   "metadata": {},
   "outputs": [
    {
     "ename": "NameError",
     "evalue": "name 'results' is not defined",
     "output_type": "error",
     "traceback": [
      "\u001b[1;31m---------------------------------------------------------------------------\u001b[0m",
      "\u001b[1;31mNameError\u001b[0m                                 Traceback (most recent call last)",
      "\u001b[1;32m<ipython-input-3-de9b694e2144>\u001b[0m in \u001b[0;36m<module>\u001b[1;34m\u001b[0m\n\u001b[0;32m      1\u001b[0m \u001b[1;31m# 크롤링 결과 데이터 칼럼 설정 후 저장 (csv, json, excel)\u001b[0m\u001b[1;33m\u001b[0m\u001b[1;33m\u001b[0m\u001b[1;33m\u001b[0m\u001b[0m\n\u001b[0;32m      2\u001b[0m \u001b[1;33m\u001b[0m\u001b[0m\n\u001b[1;32m----> 3\u001b[1;33m \u001b[0mresults_df\u001b[0m \u001b[1;33m=\u001b[0m \u001b[0mpd\u001b[0m\u001b[1;33m.\u001b[0m\u001b[0mDataFrame\u001b[0m\u001b[1;33m(\u001b[0m\u001b[0mresults\u001b[0m\u001b[1;33m)\u001b[0m\u001b[1;33m\u001b[0m\u001b[1;33m\u001b[0m\u001b[0m\n\u001b[0m\u001b[0;32m      4\u001b[0m \u001b[0mresults_df\u001b[0m\u001b[1;33m.\u001b[0m\u001b[0mcolumns\u001b[0m \u001b[1;33m=\u001b[0m \u001b[1;33m[\u001b[0m\u001b[1;34m'content'\u001b[0m\u001b[1;33m,\u001b[0m\u001b[1;34m'data'\u001b[0m\u001b[1;33m,\u001b[0m\u001b[1;34m'like'\u001b[0m\u001b[1;33m,\u001b[0m\u001b[1;34m'place'\u001b[0m\u001b[1;33m,\u001b[0m\u001b[1;34m'tags'\u001b[0m\u001b[1;33m]\u001b[0m\u001b[1;33m\u001b[0m\u001b[1;33m\u001b[0m\u001b[0m\n\u001b[0;32m      5\u001b[0m \u001b[0mresults_df\u001b[0m\u001b[1;33m.\u001b[0m\u001b[0mto_csv\u001b[0m\u001b[1;33m(\u001b[0m\u001b[1;34m'C:/바탕 화면/Insta_충남관광.csv'\u001b[0m\u001b[1;33m)\u001b[0m\u001b[1;33m\u001b[0m\u001b[1;33m\u001b[0m\u001b[0m\n",
      "\u001b[1;31mNameError\u001b[0m: name 'results' is not defined"
     ]
    }
   ],
   "source": [
    "# 크롤링 결과 데이터 칼럼 설정 후 저장 (csv, json, excel)\n",
    "\n",
    "results_df = pd.DataFrame(results)\n",
    "results_df.columns = ['content','data','like','place','tags']\n",
    "results_df.to_csv('C:/바탕 화면/Insta_충남관광.csv')\n",
    "# results_df.to_json('C:/Users/82108/OneDrive/Desktop/GitHub/SpringFrameWork/Bigdata/bigdata1/관광/충남2.json')\n",
    "# results_df.to_excel('C:/Users/82108/OneDrive/Desktop/GitHub/SpringFrameWork/Bigdata/bigdata1/관광/충남관광.xlsx')\n",
    "results_df"
   ]
  },
  {
   "cell_type": "code",
   "execution_count": null,
   "id": "209e037a-9713-4c13-b3ae-fc53a286dda3",
   "metadata": {},
   "outputs": [],
   "source": [
    "# 년도별, 월별 데이터를 가져오기 위한 칼럼 설정\n",
    "\n",
    "import pandas as pd\n",
    "import re\n",
    "from datetime import datetime   # 패키지 - 모듈 (이름 같음)\n",
    "import pandas as pd   # csv file read\n",
    "import matplotlib.pyplot as plt   # 시계열 시각화\n",
    "\n",
    "df = pd.read_csv('C:/Users/82108/OneDrive/Desktop/GitHub/SpringFrameWork/Bigdata/bigdata2/data/충남관광.csv')\n",
    "df['date2'] = pd.to_datetime(df['data'])\n",
    "df['year'] = df['date2'].dt.year\n",
    "df['month'] = df['date2'].dt.month\n",
    "df"
   ]
  },
  {
   "cell_type": "code",
   "execution_count": null,
   "id": "52a4c835-08c9-4623-8b2e-11ef39c869ea",
   "metadata": {},
   "outputs": [],
   "source": [
    "# 년도별 데이터 분류\n",
    "\n",
    "new_year = df.set_index('year')\n",
    "\n",
    "# 2018년\n",
    "year2021 = new_year.loc[[2018]]\n",
    "year2021.to_excel('C:/Users/82108/OneDrive/Desktop/GitHub/SpringFrameWork/Bigdata/bigdata2/data/충남여행2018.xlsx')\n"
   ]
  },
  {
   "cell_type": "code",
   "execution_count": null,
   "id": "dc7ff196-d899-48a1-b6e5-f38e2d8e5676",
   "metadata": {},
   "outputs": [],
   "source": [
    "# 특정 칼럼 데이터를 index 칼럼으로 변환하여 데이터를 가져오기 위한 index 칼럼 추가\n",
    "\n",
    "travel_insta_df = pd.DataFrame( [ ] )\n",
    "\n",
    "folder = 'C:/Users/82108/OneDrive/Desktop/GitHub/SpringFrameWork/Bigdata/bigdata2/data/'\n",
    "f_list = ['충남여행.csv']\n",
    "for fname in f_list:\n",
    "    fpath = folder + fname\n",
    "    temp = pd.read_csv(fpath)\n",
    "    travel_insta_df = travel_insta_df.append(temp)\n",
    "\n",
    "travel_insta_df.columns =['index','content','data','like','place','tags']"
   ]
  },
  {
   "cell_type": "code",
   "execution_count": null,
   "id": "35c8576b-1161-4291-9884-0bd88a89179f",
   "metadata": {},
   "outputs": [],
   "source": [
    "# tags 칼럼만 수집\n",
    "\n",
    "travel_insta_df.drop_duplicates(subset = [ \"tags\"] , inplace = True)\n",
    "travel_insta_df.to_csv('C:/Users/82108/OneDrive/Desktop/GitHub/SpringFrameWork/Bigdata/bigdata2/data/충남여행.csv', index = False)"
   ]
  },
  {
   "cell_type": "code",
   "execution_count": null,
   "id": "89e9339b-8bc8-4182-bbce-2efe8699539d",
   "metadata": {},
   "outputs": [],
   "source": [
    "# tags pandas reading\n",
    "\n",
    "import pandas as pd\n",
    "raw_total = pd.read_csv('C:/Users/82108/OneDrive/Desktop/GitHub/SpringFrameWork/Bigdata/bigdata2/data/충남관광.csv')\n",
    "raw_total['tags']"
   ]
  },
  {
   "cell_type": "code",
   "execution_count": null,
   "id": "8ef3aca2-80f0-49a9-94f4-76973a7a5bdc",
   "metadata": {},
   "outputs": [],
   "source": [
    "# tags 칼럼 나열\n",
    "\n",
    "tags_total = []\n",
    "\n",
    "for tags in raw_total['tags']:\n",
    "    tags_list = tags[2:-2].split(\"', '\")\n",
    "    for tag in tags_list:\n",
    "        tags_total.append(tag)\n",
    "    print(tags)"
   ]
  },
  {
   "cell_type": "code",
   "execution_count": null,
   "id": "9126eb37-b064-407d-bce0-ac8fb3d87fd3",
   "metadata": {},
   "outputs": [],
   "source": [
    "# counter\n",
    "\n",
    "from collections import Counter\n",
    "tag_counts = Counter(tags_total)\n",
    "\n",
    "# 10000개\n",
    "tag_counts.most_common(10000)"
   ]
  },
  {
   "cell_type": "code",
   "execution_count": null,
   "id": "903bfee7-f31e-44c5-bce8-4cbe72282f84",
   "metadata": {},
   "outputs": [],
   "source": [
    "# 전처리\n",
    "\n",
    "STOPWORDS = ['', '#일상', '#아들스타그램', '#줌마그램', '#데일리그램', '#여섯살아들', '#도치맘', '#육아그램', '#소소한일상', \n",
    "            '#요리그램', '#홈쿡', '#얼집등원룩', '#뱀띠아들', '#6년차주부', '#daily', '#소통', '#데일리', '#2019', '#맞팔',\n",
    "            '#korea', '#2020', '#좋아요', '#koreatravel', '#photography', '#소니이미지갤러리', '#snap','#육아스타그램',\n",
    "            '#southkorea', '#선팔', '#2018', '#fff', '#셀스타그램', '#좋아요반사', '#ig_korea' ,'#주말일상','#딸스타그램','#스히',\n",
    "            '#sony','#팔로우','#selfie', '#대한민국', '#셀카','#a7m3','#육아소통','#사랑해','#기록','#scenery','#스냅','#today',\n",
    "            '#대구맘','#선팔하면맞팔','#lance_rover','#lance','#lance865','#lancetruckcamper','#truckcamper','#truckcamperlife',\n",
    "            '#모터홈라이프','#motorhomelife','#알빙','#arving','#sel2470gm','#beautifuldestinations','#소통해요','#ootd','#selca', \n",
    "            '#f4f','#인친','#아들','#2015','#문경시SNS서포터즈','#igtravel','#가산수피아','#2017','#visitkorea','#instagramer',\n",
    "             '#꽃비원라이프','#사춘기메들리','#Repost','#더정성스냅','#SonyImageGallery','#iphone8','#셀피','#육아맘','#백현그램',\n",
    "             '#데일리룩','#igdaily','#2014','#a7ii','#selfi','#pet','#sonyphotography','#good', '#멍스타그램','#ig_asia','#좋아요',\n",
    "             '#koreabyme','#dailylook','#해시태그','#오늘','#캐논이미지스토밍','#ig_color','#instadaily','#temple','#점심','#닭띠아기',\n",
    "             '#예쁜아기','#귀여워','#부산사진동호회여담','#instagood','#goout','#gooutside','#꼬꼬마부부','#exploringKorea','#environment',\n",
    "             '#유기견','#고령강아지', '#고령유기견','#고령요크셔테리어','#고령유기동물','#요크셔테리어','#다음은어디','#가보고싶은곳밀',\n",
    "             '#sunset','#굿모닝','#2016','#2012','#ig_photo','#후추동반여행','#아들맘','#딸맘','#southkoreatrip','#southkoreatravel',\n",
    "             '#2020특별여행주간','#여름원피스','#❤️','#육아소통','#travelkorea','#traveller','#리틀포레스트','#koreanlife','#likeforlikes',\n",
    "             '#longexposure','#사랑','#대환투어','#대환투어on','#대환투어는계속된다','#아기일상','#baby','#cutebaby','#심장폭행',\n",
    "             '#워킹맘','#직장인', '#베이비스타그램','#딸둘','#화이팅','#gbnadri','#durchatmen','#로랑_여행','#사진소통','#방콕','#외출',\n",
    "             '#럽럽','#럽럽럽','#럽럽럽💕','#90mm', '#ig_world','#ig_koera','#pine', '#follow','#선팔하면맞팔가요', '#利潤益',\n",
    "             '#gailbookshelf','#writeaboutmyself','#naturaldyescarf','#내고장알리미연합회','#오오티디','#following','#follower',\n",
    "             '#follow4like','#likeforfollow','#안녕경주야','#portrait','#kinfolklife','#후추','#엄마와아들',\n",
    "            '#충남명소','#충남여행','#충남가볼만한곳','#충남맛집','#충남데이트','#충남관광','#충남어디까지가봤니','#충남','#도민리포터',\n",
    "            '#충청남도','#충남관광','#충청남도','#여행스타그램','#충남여행']"
   ]
  },
  {
   "cell_type": "code",
   "execution_count": null,
   "id": "74b957e7-7827-48a4-8dc5-670aae16fcba",
   "metadata": {},
   "outputs": [],
   "source": [
    "# 전처리 후 데이터\n",
    "\n",
    "tag_total_selected = []\n",
    "\n",
    "for tag in tags_total:\n",
    "    if tag not in STOPWORDS:\n",
    "        tag_total_selected.append(tag)\n",
    "        \n",
    "# 상위 100개 단어 추출하기        \n",
    "tag_counts_selected = Counter(tag_total_selected)\n",
    "tag_counts_selected.most_common(100)"
   ]
  },
  {
   "cell_type": "code",
   "execution_count": null,
   "id": "8814b7ac-fd60-4518-8097-c9e4dcfed31c",
   "metadata": {},
   "outputs": [],
   "source": [
    "# 그래프\n",
    "\n",
    "import matplotlib.pyplot as plt\n",
    "import seaborn as sns\n",
    "from matplotlib import font_manager, rc\n",
    "import sys"
   ]
  },
  {
   "cell_type": "code",
   "execution_count": null,
   "id": "38b98c87-0e71-4455-8757-3360c156c9a4",
   "metadata": {},
   "outputs": [],
   "source": [
    "# font 설정\n",
    "\n",
    "if sys.platform in ['win32', 'win64']:\n",
    "    font_name = 'malgun gothic'\n",
    "elif sys.platform == 'darwin':\n",
    "    font_name = 'AppleGothic'\n",
    "    \n",
    "rc('font', family = font_name)"
   ]
  },
  {
   "cell_type": "code",
   "execution_count": null,
   "id": "55c3c638-2a8a-4e59-9fdf-3b8eeaa6e2ee",
   "metadata": {},
   "outputs": [],
   "source": [
    "# x,y 설정\n",
    "\n",
    "tag_counts_df = pd.DataFrame(tag_counts_selected.most_common(50))\n",
    "tag_counts_df.columns = ['tags', 'counts']"
   ]
  },
  {
   "cell_type": "code",
   "execution_count": null,
   "id": "193d32a7-63ad-41e9-b7a5-3946e1ccac70",
   "metadata": {},
   "outputs": [],
   "source": [
    "# 데이터 막대 그래프\n",
    "\n",
    "plt.figure(figsize =(8,10))\n",
    "sns.barplot(x = 'counts', y = 'tags', data = tag_counts_df)\n",
    "plt.savefig('C:/Users/82108/OneDrive/Desktop/GitHub/SpringFrameWork/Bigdata/bigdata2/data/충남관광2.png')  "
   ]
  },
  {
   "cell_type": "code",
   "execution_count": null,
   "id": "0feca90c-0e02-41fd-acc4-93ae1a7f904a",
   "metadata": {},
   "outputs": [],
   "source": [
    "# wordcloud\n",
    "\n",
    "! pip install wordcloud"
   ]
  },
  {
   "cell_type": "code",
   "execution_count": null,
   "id": "bbddfa29-2516-4b06-97b8-29f3fa28b24d",
   "metadata": {},
   "outputs": [],
   "source": [
    "import matplotlib.pyplot as plt\n",
    "from wordcloud import WordCloud\n",
    "import platform"
   ]
  },
  {
   "cell_type": "code",
   "execution_count": null,
   "id": "4bbce8b4-ad2e-4f03-a415-c588ca1ddffc",
   "metadata": {},
   "outputs": [],
   "source": [
    "if platform.system() == 'Windows':   \n",
    "    font_path = \"c:/Windows/Fonts/malgun.ttf\"\n",
    "elif platform.system() == \"Darwin\":  \n",
    "    font_path = \"/Users/$USER/Library/Fonts/AppleGothic.ttf\""
   ]
  },
  {
   "cell_type": "code",
   "execution_count": null,
   "id": "a0c98f52-d958-40ec-ace3-ea6dac1ddf1e",
   "metadata": {},
   "outputs": [],
   "source": [
    "wordcloud=WordCloud(font_path= font_path, \n",
    "                    background_color=\"white\",\n",
    "                    max_words=100,\n",
    "                    relative_scaling= 0.3,\n",
    "                    width = 800,\n",
    "                    height = 400\n",
    "                 ).generate_from_frequencies(tag_counts_selected)  \n",
    "plt.figure(figsize=(15,10))\n",
    "plt.imshow(wordcloud)\n",
    "plt.axis('off')\n",
    "plt.savefig('C:/Users/82108/OneDrive/Desktop/GitHub/SpringFrameWork/Bigdata/bigdata2/data/gbtriptag-barplot4.png')  "
   ]
  }
 ],
 "metadata": {
  "kernelspec": {
   "display_name": "Python 3",
   "language": "python",
   "name": "python3"
  },
  "language_info": {
   "codemirror_mode": {
    "name": "ipython",
    "version": 3
   },
   "file_extension": ".py",
   "mimetype": "text/x-python",
   "name": "python",
   "nbconvert_exporter": "python",
   "pygments_lexer": "ipython3",
   "version": "3.8.8"
  }
 },
 "nbformat": 4,
 "nbformat_minor": 5
}
